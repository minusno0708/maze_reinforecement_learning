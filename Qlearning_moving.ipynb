{
 "cells": [
  {
   "cell_type": "code",
   "execution_count": 7,
   "id": "0a0d33ce",
   "metadata": {},
   "outputs": [],
   "source": [
    "import random\n",
    "\n",
    "import numpy as np\n",
    "import matplotlib.pyplot as plt"
   ]
  },
  {
   "cell_type": "code",
   "execution_count": 8,
   "id": "301288f0",
   "metadata": {},
   "outputs": [
    {
     "data": {
      "text/plain": [
       "<matplotlib.image.AxesImage at 0x1c599539ee0>"
      ]
     },
     "execution_count": 8,
     "metadata": {},
     "output_type": "execute_result"
    },
    {
     "data": {
      "image/png": "[encoded data removed]",
      "text/plain": [
       "<Figure size 432x288 with 1 Axes>"
      ]
     },
     "metadata": {
      "needs_background": "light"
     },
     "output_type": "display_data"
    }
   ],
   "source": [
    "maze = np.loadtxt(\"sample_maze.txt\")\n",
    "plt.imshow(maze, cmap = \"binary\")"
   ]
  },
  {
   "cell_type": "code",
   "execution_count": 9,
   "id": "a20c867c",
   "metadata": {},
   "outputs": [],
   "source": [
    "height, width = maze.shape\n",
    "\n",
    "start = np.array([1, 1])\n",
    "goal = np.array([width-2, height-2])\n",
    "\n",
    "L = 100\n",
    "gamma = 0.9\n",
    "alpha = 0.1\n",
    "\n",
    "actions = np.array([\n",
    "    [1, 0],\n",
    "    [-1, 0],\n",
    "    [0, -1],\n",
    "    [0, 1]\n",
    "])"
   ]
  },
  {
   "cell_type": "code",
   "execution_count": 22,
   "id": "ca94c11f",
   "metadata": {},
   "outputs": [],
   "source": [
    "def TD(reward, Q, action, nextQmax):\n",
    "    return reward + gamma*nextQmax - Q[action]\n",
    "\n",
    "def get_reward(s, maze, action):\n",
    "    place = s+action\n",
    "    \n",
    "    if all(s == goal) == 1:\n",
    "        reward = 10 \n",
    "    elif maze[place[0], place[1]] == 0:\n",
    "        reward = 2\n",
    "    elif maze[place[0], place[1]] == 1:\n",
    "        reward = 0\n",
    "\n",
    "    return reward\n",
    "\n",
    "def next_Qmax(s, Q, action):\n",
    "    place = s+action\n",
    "    return Q[place[0], place[1]].max()\n",
    "\n",
    "def updateQ(s, maze, Q, actions):\n",
    "    for i in range(len(actions)):\n",
    "        nextQmax = next_Qmax(s, Q, actions[i])\n",
    "        reward = get_reward(s, maze, actions[i])\n",
    "        Q[s[0], s[1], i] = Q[s[0], s[1], i] + alpha * TD(reward, Q[s[0], s[1]], i, nextQmax)"
   ]
  },
  {
   "cell_type": "code",
   "execution_count": 23,
   "id": "904466d2",
   "metadata": {},
   "outputs": [
    {
     "name": "stdout",
     "output_type": "stream",
     "text": [
      "[7 1]\n"
     ]
    }
   ],
   "source": [
    "Q = np.zeros((height, width, len(actions)))\n",
    "\n",
    "for _ in range(L):\n",
    "    s = np.array([1, 1])\n",
    "    for i in range(1000):\n",
    "        updateQ(s, maze, Q, actions)\n",
    "\n",
    "        #maxlist = [i for i, x in enumerate(Q[s[0], s[1]]) if x == max(Q[s[0], s[1]])]\n",
    "        #action = maxlist[random.randint(0, len(maxlist)-1)]\n",
    "\n",
    "        decide = random.randint(0, 3)\n",
    "        s_next = s + actions[decide]\n",
    "        if maze[s_next[0], s_next[1]] == 1:\n",
    "            s = s\n",
    "        else:\n",
    "            s = s_next\n",
    "    \n",
    "    \n",
    "print(s)\n",
    "    "
   ]
  },
  {
   "cell_type": "code",
   "execution_count": 24,
   "id": "88178ea9",
   "metadata": {},
   "outputs": [
    {
     "data": {
      "text/plain": [
       "<matplotlib.image.AxesImage at 0x1c5996f6bb0>"
      ]
     },
     "execution_count": 24,
     "metadata": {},
     "output_type": "execute_result"
    },
    {
     "data": {
      "image/png": "[encoded data removed]",
      "text/plain": [
       "<Figure size 432x288 with 1 Axes>"
      ]
     },
     "metadata": {
      "needs_background": "light"
     },
     "output_type": "display_data"
    }
   ],
   "source": [
    "V = np.zeros((height, width))\n",
    "\n",
    "for i in range(height):\n",
    "    for j in range(width):\n",
    "        V[i, j] = Q[i, j].max()\n",
    "\n",
    "plt.imshow(V, cmap = \"magma\")"
   ]
  },
  {
   "cell_type": "code",
   "execution_count": 25,
   "id": "176196f3",
   "metadata": {},
   "outputs": [
    {
     "data": {
      "text/plain": [
       "array([[ 0.        ,  0.        ,  0.        ,  0.        ,  0.        ,\n",
       "         0.        ,  0.        ,  0.        ,  0.        ,  0.        ,\n",
       "         0.        ,  0.        ,  0.        ,  0.        ,  0.        ],\n",
       "       [ 0.        , 23.34885279, 23.72095163, 24.13439616,  0.        ,\n",
       "        23.34885363,  0.        , 21.01967184, 21.16225816, 21.33522285,\n",
       "        21.52009128, 21.7217011 ,  0.        , 21.38615891,  0.        ],\n",
       "       [ 0.        , 23.01396187,  0.        , 24.59377971,  0.        ,\n",
       "        23.72094959,  0.        ,  0.        ,  0.        , 21.16077549,\n",
       "         0.        , 21.94049333,  0.        , 21.55224259,  0.        ],\n",
       "       [ 0.        , 22.71255271,  0.        , 25.10422024, 24.59378482,\n",
       "        24.13439618, 23.72094851, 23.34885028,  0.        , 21.01677362,\n",
       "         0.        , 22.18380006, 21.95964916, 21.7454429 ,  0.        ],\n",
       "       [ 0.        ,  0.        ,  0.        , 25.67138974,  0.        ,\n",
       "         0.        ,  0.        , 23.01395797,  0.        ,  0.        ,\n",
       "         0.        , 22.43394357,  0.        ,  0.        ,  0.        ],\n",
       "       [ 0.        , 25.10363885,  0.        , 26.30162561,  0.        ,\n",
       "        25.10412661,  0.        , 22.71255305,  0.        , 23.34815811,\n",
       "        23.0130152 , 22.70984058, 22.42299446, 22.16668358,  0.        ],\n",
       "       [ 0.        , 25.6711349 ,  0.        , 27.00184176,  0.        ,\n",
       "        25.67130458,  0.        ,  0.        ,  0.        , 23.72050714,\n",
       "         0.        , 22.41253629,  0.        , 21.94503004,  0.        ],\n",
       "       [ 0.        , 26.30157476,  0.        , 27.77992871, 27.00181566,\n",
       "        26.30152423, 25.67133427, 25.10409842, 24.59359783, 24.13407878,\n",
       "         0.        , 22.13888188,  0.        , 21.74781709,  0.        ],\n",
       "       [ 0.        , 27.00184454,  0.        , 28.64447621,  0.        ,\n",
       "         0.        ,  0.        ,  0.        ,  0.        ,  0.        ,\n",
       "         0.        , 21.80846801,  0.        ,  0.        ,  0.        ],\n",
       "       [ 0.        , 27.77992117, 28.6444583 , 29.60517382, 30.6725774 ,\n",
       "        31.85853185, 33.17629571, 34.64048527,  0.        , 38.06756867,\n",
       "         0.        , 21.41151947,  0.        , 31.7938466 ,  0.        ],\n",
       "       [ 0.        ,  0.        ,  0.        , 28.64444069,  0.        ,\n",
       "        30.67240732,  0.        , 36.26755521,  0.        , 40.0827395 ,\n",
       "         0.        ,  0.        ,  0.        , 33.14326682,  0.        ],\n",
       "       [ 0.        , 26.30135613, 27.00160319, 27.77984892,  0.        ,\n",
       "        29.60474411,  0.        , 38.0755668 , 40.08463642, 42.31791092,\n",
       "        40.08297113, 38.07200612, 36.26363649, 34.63545215,  0.        ],\n",
       "       [ 0.        ,  0.        ,  0.        , 27.00165977,  0.        ,\n",
       "         0.        ,  0.        , 36.26754831,  0.        , 44.80319306,\n",
       "         0.        ,  0.        ,  0.        ,  0.        ,  0.        ],\n",
       "       [ 0.        , 25.10367867, 25.67091673, 26.30119129, 25.67087623,\n",
       "        25.10374775,  0.        , 34.64006431,  0.        , 47.56572113,\n",
       "        50.63161602, 54.0376589 , 57.82598241, 62.03559448,  0.        ],\n",
       "       [ 0.        ,  0.        ,  0.        ,  0.        ,  0.        ,\n",
       "         0.        ,  0.        ,  0.        ,  0.        ,  0.        ,\n",
       "         0.        ,  0.        ,  0.        ,  0.        ,  0.        ]])"
      ]
     },
     "execution_count": 25,
     "metadata": {},
     "output_type": "execute_result"
    }
   ],
   "source": [
    "V"
   ]
  },
  {
   "cell_type": "code",
   "execution_count": null,
   "id": "72e9eaf6",
   "metadata": {},
   "outputs": [],
   "source": []
  }
 ],
 "metadata": {
  "kernelspec": {
   "display_name": "Python 3 (ipykernel)",
   "language": "python",
   "name": "python3"
  },
  "language_info": {
   "codemirror_mode": {
    "name": "ipython",
    "version": 3
   },
   "file_extension": ".py",
   "mimetype": "text/x-python",
   "name": "python",
   "nbconvert_exporter": "python",
   "pygments_lexer": "ipython3",
   "version": "3.8.13"
  }
 },
 "nbformat": 4,
 "nbformat_minor": 5
}
