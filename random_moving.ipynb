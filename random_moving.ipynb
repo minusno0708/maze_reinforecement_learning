{
 "cells": [
  {
   "cell_type": "code",
   "execution_count": 1,
   "id": "0a0d33ce",
   "metadata": {},
   "outputs": [],
   "source": [
    "import random\n",
    "\n",
    "import numpy as np\n",
    "import matplotlib.pyplot as plt"
   ]
  },
  {
   "cell_type": "code",
   "execution_count": 2,
   "id": "301288f0",
   "metadata": {},
   "outputs": [
    {
     "data": {
      "text/plain": [
       "<matplotlib.image.AxesImage at 0x2a6dd69b520>"
      ]
     },
     "execution_count": 2,
     "metadata": {},
     "output_type": "execute_result"
    },
    {
     "data": {
      "image/png": "[encoded data removed]",
      "text/plain": [
       "<Figure size 432x288 with 1 Axes>"
      ]
     },
     "metadata": {
      "needs_background": "light"
     },
     "output_type": "display_data"
    }
   ],
   "source": [
    "maze = np.loadtxt(\"sample_maze.txt\")\n",
    "plt.imshow(maze, cmap = \"binary\")"
   ]
  },
  {
   "cell_type": "code",
   "execution_count": 3,
   "id": "a20c867c",
   "metadata": {},
   "outputs": [],
   "source": [
    "start = np.array([1, 1])\n",
    "end = np.array([len(maze)-2, len(maze)-2])\n",
    "\n",
    "action = np.array([\n",
    "    [0, 0],\n",
    "    [1, 0],\n",
    "    [-1, 0],\n",
    "    [0, -1],\n",
    "    [0, 1]\n",
    "])"
   ]
  },
  {
   "cell_type": "code",
   "execution_count": 4,
   "id": "904466d2",
   "metadata": {},
   "outputs": [
    {
     "name": "stdout",
     "output_type": "stream",
     "text": [
      "[13 13] 4620\n",
      "0.0\n",
      "-1436\n"
     ]
    }
   ],
   "source": [
    "s = np.array([1, 1])\n",
    "reward = 0\n",
    "\n",
    "for i in range(10000):\n",
    "    decide = random.randint(0, 4)\n",
    "    if random.random() <= 0.2:\n",
    "        decide = 0\n",
    "    s_next = s + action[decide]\n",
    "    if maze[s_next[0], s_next[1]] == 1:\n",
    "        reward -= 1\n",
    "    elif np.all(s_next == end):\n",
    "        s = s_next\n",
    "        reward += 10\n",
    "        break\n",
    "    else:\n",
    "        s = s_next\n",
    "\n",
    "print(s, i)\n",
    "print(maze[s[0], s[1]])\n",
    "print(reward)\n",
    "    "
   ]
  },
  {
   "cell_type": "code",
   "execution_count": null,
   "id": "8daa3c2e",
   "metadata": {},
   "outputs": [],
   "source": []
  }
 ],
 "metadata": {
  "kernelspec": {
   "display_name": "Python 3 (ipykernel)",
   "language": "python",
   "name": "python3"
  },
  "language_info": {
   "codemirror_mode": {
    "name": "ipython",
    "version": 3
   },
   "file_extension": ".py",
   "mimetype": "text/x-python",
   "name": "python",
   "nbconvert_exporter": "python",
   "pygments_lexer": "ipython3",
   "version": "3.8.13"
  }
 },
 "nbformat": 4,
 "nbformat_minor": 5
}
