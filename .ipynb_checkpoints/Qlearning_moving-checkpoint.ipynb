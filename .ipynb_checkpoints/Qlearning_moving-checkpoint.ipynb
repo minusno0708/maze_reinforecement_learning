{
 "cells": [
  {
   "cell_type": "code",
   "execution_count": 1,
   "id": "0a0d33ce",
   "metadata": {},
   "outputs": [],
   "source": [
    "import random\n",
    "\n",
    "import numpy as np\n",
    "import matplotlib.pyplot as plt"
   ]
  },
  {
   "cell_type": "code",
   "execution_count": 2,
   "id": "301288f0",
   "metadata": {},
   "outputs": [
    {
     "data": {
      "text/plain": [
       "<matplotlib.image.AxesImage at 0x1dedf1cb4c0>"
      ]
     },
     "execution_count": 2,
     "metadata": {},
     "output_type": "execute_result"
    },
    {
     "data": {
      "image/png": "[encoded data removed]",
      "text/plain": [
       "<Figure size 432x288 with 1 Axes>"
      ]
     },
     "metadata": {
      "needs_background": "light"
     },
     "output_type": "display_data"
    }
   ],
   "source": [
    "maze = np.loadtxt(\"sample_maze.txt\")\n",
    "plt.imshow(maze, cmap = \"binary\")"
   ]
  },
  {
   "cell_type": "code",
   "execution_count": 3,
   "id": "a20c867c",
   "metadata": {},
   "outputs": [],
   "source": [
    "height, width = maze.shape\n",
    "\n",
    "start = np.array([1, 1])\n",
    "goal = np.array([width-2, height-2])\n",
    "\n",
    "L = 100\n",
    "gamma = 0.9\n",
    "alpha = 0.1\n",
    "\n",
    "actions = np.array([\n",
    "    [1, 0],\n",
    "    [-1, 0],\n",
    "    [0, -1],\n",
    "    [0, 1]\n",
    "])"
   ]
  },
  {
   "cell_type": "code",
   "execution_count": 4,
   "id": "ca94c11f",
   "metadata": {},
   "outputs": [],
   "source": [
    "def TD(reward, Q, action, nextQmax):\n",
    "    return reward + gamma*nextQmax - Q[action]\n",
    "\n",
    "def get_reward(s, maze, action):\n",
    "    place = s+action\n",
    "    \n",
    "    if all(s == goal) == 1:\n",
    "        reward = 10 \n",
    "    elif maze[place[0], place[1]] == 0:\n",
    "        reward = 1\n",
    "    elif maze[place[0], place[1]] == 1:\n",
    "        reward = 0\n",
    "\n",
    "    return reward\n",
    "\n",
    "def next_Qmax(s, Q, action):\n",
    "    place = s+action\n",
    "    return Q[place[0], place[1]].max()\n",
    "\n",
    "def updateQ(s, maze, Q, actions):\n",
    "    for i in range(len(actions)):\n",
    "        nextQmax = next_Qmax(s, Q, actions[i])\n",
    "        reward = get_reward(s, maze, actions[i])\n",
    "        Q[s[0], s[1], i] = Q[s[0], s[1], i] + alpha * TD(reward, Q[s[0], s[1]], i, nextQmax)"
   ]
  },
  {
   "cell_type": "code",
   "execution_count": 5,
   "id": "904466d2",
   "metadata": {},
   "outputs": [
    {
     "name": "stdout",
     "output_type": "stream",
     "text": [
      "[3 4]\n"
     ]
    }
   ],
   "source": [
    "Q = np.zeros((height, width, len(actions)))\n",
    "\n",
    "for _ in range(L):\n",
    "    s = np.array([1, 1])\n",
    "    for i in range(1000):\n",
    "        updateQ(s, maze, Q, actions)\n",
    "\n",
    "        #maxlist = [i for i, x in enumerate(Q[s[0], s[1]]) if x == max(Q[s[0], s[1]])]\n",
    "        #action = maxlist[random.randint(0, len(maxlist)-1)]\n",
    "\n",
    "        decide = random.randint(0, 3)\n",
    "        s_next = s + actions[decide]\n",
    "        if maze[s_next[0], s_next[1]] == 1:\n",
    "            s = s\n",
    "        else:\n",
    "            s = s_next\n",
    "    \n",
    "    \n",
    "print(s)\n",
    "    "
   ]
  },
  {
   "cell_type": "code",
   "execution_count": 6,
   "id": "88178ea9",
   "metadata": {},
   "outputs": [
    {
     "data": {
      "text/plain": [
       "<matplotlib.image.AxesImage at 0x1dee12e2eb0>"
      ]
     },
     "execution_count": 6,
     "metadata": {},
     "output_type": "execute_result"
    },
    {
     "data": {
      "image/png": "[encoded data removed]",
      "text/plain": [
       "<Figure size 432x288 with 1 Axes>"
      ]
     },
     "metadata": {
      "needs_background": "light"
     },
     "output_type": "display_data"
    }
   ],
   "source": [
    "V = np.zeros((height, width))\n",
    "\n",
    "for i in range(height):\n",
    "    for j in range(width):\n",
    "        V[i, j] = Q[i, j].max()\n",
    "\n",
    "plt.imshow(V, cmap = \"magma\")"
   ]
  },
  {
   "cell_type": "code",
   "execution_count": 10,
   "id": "176196f3",
   "metadata": {},
   "outputs": [
    {
     "data": {
      "text/plain": [
       "array([[ 0.        ,  0.        ,  0.        ,  0.        ,  0.        ,\n",
       "         0.        ,  0.        ,  0.        ,  0.        ,  0.        ,\n",
       "         0.        ,  0.        ,  0.        ,  0.        ,  0.        ],\n",
       "       [ 0.        , 11.94222745, 12.15842474, 12.39880843,  0.        ,\n",
       "        11.94325129,  0.        , 10.26203553, 10.36673409, 10.4639229 ,\n",
       "        10.58148012, 10.72309139,  0.        , 10.40194159,  0.        ],\n",
       "       [ 0.        , 11.74774809,  0.        , 12.66575773,  0.        ,\n",
       "        12.15924954,  0.        ,  0.        ,  0.        , 10.39547243,\n",
       "         0.        , 10.96902418,  0.        , 10.6168401 ,  0.        ],\n",
       "       [ 0.        , 11.57268685,  0.        , 12.96213359, 12.66588143,\n",
       "        12.39923406, 12.15924267, 11.94324661,  0.        , 10.34715852,\n",
       "         0.        , 11.18668296, 11.01294604, 10.7871122 ,  0.        ],\n",
       "       [ 0.        ,  0.        ,  0.        , 13.2913182 ,  0.        ,\n",
       "         0.        ,  0.        , 11.74888257,  0.        ,  0.        ,\n",
       "         0.        , 11.36627233,  0.        ,  0.        ,  0.        ],\n",
       "       [ 0.        , 12.9456337 ,  0.        , 13.65718213,  0.        ,\n",
       "        12.95583566,  0.        , 11.57394022,  0.        , 11.92738311,\n",
       "        11.72718425, 11.54494621, 11.36336791, 11.20599511,  0.        ],\n",
       "       [ 0.        , 13.27892133,  0.        , 14.06429745,  0.        ,\n",
       "        13.28605116,  0.        ,  0.        ,  0.        , 12.14571525,\n",
       "         0.        , 11.38042333,  0.        , 11.07568896,  0.        ],\n",
       "       [ 0.        , 13.6481415 ,  0.        , 14.52242402, 14.06374668,\n",
       "        13.65234869, 13.28543535, 12.95420598, 12.65802688, 12.38796918,\n",
       "         0.        , 11.21797584,  0.        , 10.94921464,  0.        ],\n",
       "       [ 0.        , 14.05753322,  0.        , 15.03810393,  0.        ,\n",
       "         0.        ,  0.        ,  0.        ,  0.        ,  0.        ,\n",
       "         0.        , 11.05894193,  0.        ,  0.        ,  0.        ],\n",
       "       [ 0.        , 14.51549903, 15.02975426, 15.6078717 , 16.24323646,\n",
       "        16.94526488, 17.72576305, 18.62644548,  0.        , 21.21925535,\n",
       "         0.        , 10.85893753,  0.        , 17.01583251,  0.        ],\n",
       "       [ 0.        ,  0.        ,  0.        , 15.03472814,  0.        ,\n",
       "        16.23953026,  0.        , 19.61847395,  0.        , 22.63170111,\n",
       "         0.        ,  0.        ,  0.        , 17.8804546 ,  0.        ],\n",
       "       [ 0.        , 13.6594616 , 14.06863645, 14.52618729,  0.        ,\n",
       "        15.59993781,  0.        , 20.76161427, 22.42866179, 24.22750504,\n",
       "        22.54310207, 21.13033889, 19.90227001, 18.84382438,  0.        ],\n",
       "       [ 0.        ,  0.        ,  0.        , 14.06588542,  0.        ,\n",
       "         0.        ,  0.        , 19.55255992,  0.        , 25.99754595,\n",
       "         0.        ,  0.        ,  0.        ,  0.        ,  0.        ],\n",
       "       [ 0.        , 12.96129062, 13.29094554, 13.65723841, 13.29088795,\n",
       "        12.96149047,  0.        , 18.54511403,  0.        , 28.44058926,\n",
       "        31.71872792, 38.37014637, 42.50537193, 47.57111458,  0.        ],\n",
       "       [ 0.        ,  0.        ,  0.        ,  0.        ,  0.        ,\n",
       "         0.        ,  0.        ,  0.        ,  0.        ,  0.        ,\n",
       "         0.        ,  0.        ,  0.        ,  0.        ,  0.        ]])"
      ]
     },
     "execution_count": 10,
     "metadata": {},
     "output_type": "execute_result"
    }
   ],
   "source": [
    "V"
   ]
  }
 ],
 "metadata": {
  "kernelspec": {
   "display_name": "Python 3 (ipykernel)",
   "language": "python",
   "name": "python3"
  },
  "language_info": {
   "codemirror_mode": {
    "name": "ipython",
    "version": 3
   },
   "file_extension": ".py",
   "mimetype": "text/x-python",
   "name": "python",
   "nbconvert_exporter": "python",
   "pygments_lexer": "ipython3",
   "version": "3.8.13"
  }
 },
 "nbformat": 4,
 "nbformat_minor": 5
}
